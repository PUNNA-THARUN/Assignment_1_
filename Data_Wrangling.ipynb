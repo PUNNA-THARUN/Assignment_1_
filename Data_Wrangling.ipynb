{
  "nbformat": 4,
  "nbformat_minor": 0,
  "metadata": {
    "colab": {
      "provenance": [],
      "authorship_tag": "ABX9TyNsGqHCO9BjRQLREvhENTVq",
      "include_colab_link": true
    },
    "kernelspec": {
      "name": "python3",
      "display_name": "Python 3"
    },
    "language_info": {
      "name": "python"
    }
  },
  "cells": [
    {
      "cell_type": "markdown",
      "metadata": {
        "id": "view-in-github",
        "colab_type": "text"
      },
      "source": [
        "<a href=\"https://colab.research.google.com/github/PUNNA-THARUN/Edyoda_Assignments/blob/main/Data_Wrangling.ipynb\" target=\"_parent\"><img src=\"https://colab.research.google.com/assets/colab-badge.svg\" alt=\"Open In Colab\"/></a>"
      ]
    },
    {
      "cell_type": "markdown",
      "source": [
        "1. Import the dataset using Pandas from url."
      ],
      "metadata": {
        "id": "8eMQiwKLFNq1"
      }
    },
    {
      "cell_type": "code",
      "execution_count": 188,
      "metadata": {
        "colab": {
          "base_uri": "https://localhost:8080/",
          "height": 487
        },
        "id": "M77xghYLDzNb",
        "outputId": "d7e508c5-e18b-4003-a39c-d299c82b1e5b"
      },
      "outputs": [
        {
          "output_type": "execute_result",
          "data": {
            "text/plain": [
              "      iso_code continent       location      date  total_cases  new_cases  \\\n",
              "0          AFG      Asia    Afghanistan  31/12/19          NaN        0.0   \n",
              "1          AFG      Asia    Afghanistan  01/01/20          NaN        0.0   \n",
              "2          AFG      Asia    Afghanistan  02/01/20          NaN        0.0   \n",
              "3          AFG      Asia    Afghanistan  03/01/20          NaN        0.0   \n",
              "4          AFG      Asia    Afghanistan  04/01/20          NaN        0.0   \n",
              "...        ...       ...            ...       ...          ...        ...   \n",
              "57389      NaN       NaN  International  13/11/20        696.0        NaN   \n",
              "57390      NaN       NaN  International  14/11/20        696.0        NaN   \n",
              "57391      NaN       NaN  International  15/11/20        696.0        NaN   \n",
              "57392      NaN       NaN  International  16/11/20        696.0        NaN   \n",
              "57393      NaN       NaN  International  17/11/20        696.0        NaN   \n",
              "\n",
              "       new_cases_smoothed  total_deaths  new_deaths  new_deaths_smoothed  ...  \\\n",
              "0                     NaN           NaN         0.0                  NaN  ...   \n",
              "1                     NaN           NaN         0.0                  NaN  ...   \n",
              "2                     NaN           NaN         0.0                  NaN  ...   \n",
              "3                     NaN           NaN         0.0                  NaN  ...   \n",
              "4                     NaN           NaN         0.0                  NaN  ...   \n",
              "...                   ...           ...         ...                  ...  ...   \n",
              "57389                 NaN           7.0         NaN                  NaN  ...   \n",
              "57390                 NaN           7.0         NaN                  NaN  ...   \n",
              "57391                 NaN           7.0         NaN                  NaN  ...   \n",
              "57392                 NaN           7.0         NaN                  NaN  ...   \n",
              "57393                 NaN           7.0         NaN                  NaN  ...   \n",
              "\n",
              "       gdp_per_capita  extreme_poverty  cardiovasc_death_rate  \\\n",
              "0            1803.987              NaN                597.029   \n",
              "1            1803.987              NaN                597.029   \n",
              "2            1803.987              NaN                597.029   \n",
              "3            1803.987              NaN                597.029   \n",
              "4            1803.987              NaN                597.029   \n",
              "...               ...              ...                    ...   \n",
              "57389             NaN              NaN                    NaN   \n",
              "57390             NaN              NaN                    NaN   \n",
              "57391             NaN              NaN                    NaN   \n",
              "57392             NaN              NaN                    NaN   \n",
              "57393             NaN              NaN                    NaN   \n",
              "\n",
              "       diabetes_prevalence  female_smokers  male_smokers  \\\n",
              "0                     9.59             NaN           NaN   \n",
              "1                     9.59             NaN           NaN   \n",
              "2                     9.59             NaN           NaN   \n",
              "3                     9.59             NaN           NaN   \n",
              "4                     9.59             NaN           NaN   \n",
              "...                    ...             ...           ...   \n",
              "57389                  NaN             NaN           NaN   \n",
              "57390                  NaN             NaN           NaN   \n",
              "57391                  NaN             NaN           NaN   \n",
              "57392                  NaN             NaN           NaN   \n",
              "57393                  NaN             NaN           NaN   \n",
              "\n",
              "       handwashing_facilities  hospital_beds_per_thousand  life_expectancy  \\\n",
              "0                      37.746                         0.5            64.83   \n",
              "1                      37.746                         0.5            64.83   \n",
              "2                      37.746                         0.5            64.83   \n",
              "3                      37.746                         0.5            64.83   \n",
              "4                      37.746                         0.5            64.83   \n",
              "...                       ...                         ...              ...   \n",
              "57389                     NaN                         NaN              NaN   \n",
              "57390                     NaN                         NaN              NaN   \n",
              "57391                     NaN                         NaN              NaN   \n",
              "57392                     NaN                         NaN              NaN   \n",
              "57393                     NaN                         NaN              NaN   \n",
              "\n",
              "       human_development_index  \n",
              "0                        0.498  \n",
              "1                        0.498  \n",
              "2                        0.498  \n",
              "3                        0.498  \n",
              "4                        0.498  \n",
              "...                        ...  \n",
              "57389                      NaN  \n",
              "57390                      NaN  \n",
              "57391                      NaN  \n",
              "57392                      NaN  \n",
              "57393                      NaN  \n",
              "\n",
              "[57394 rows x 49 columns]"
            ],
            "text/html": [
              "\n",
              "  <div id=\"df-52ce7d0d-4e8d-4220-91a3-81da473dc3d6\">\n",
              "    <div class=\"colab-df-container\">\n",
              "      <div>\n",
              "<style scoped>\n",
              "    .dataframe tbody tr th:only-of-type {\n",
              "        vertical-align: middle;\n",
              "    }\n",
              "\n",
              "    .dataframe tbody tr th {\n",
              "        vertical-align: top;\n",
              "    }\n",
              "\n",
              "    .dataframe thead th {\n",
              "        text-align: right;\n",
              "    }\n",
              "</style>\n",
              "<table border=\"1\" class=\"dataframe\">\n",
              "  <thead>\n",
              "    <tr style=\"text-align: right;\">\n",
              "      <th></th>\n",
              "      <th>iso_code</th>\n",
              "      <th>continent</th>\n",
              "      <th>location</th>\n",
              "      <th>date</th>\n",
              "      <th>total_cases</th>\n",
              "      <th>new_cases</th>\n",
              "      <th>new_cases_smoothed</th>\n",
              "      <th>total_deaths</th>\n",
              "      <th>new_deaths</th>\n",
              "      <th>new_deaths_smoothed</th>\n",
              "      <th>...</th>\n",
              "      <th>gdp_per_capita</th>\n",
              "      <th>extreme_poverty</th>\n",
              "      <th>cardiovasc_death_rate</th>\n",
              "      <th>diabetes_prevalence</th>\n",
              "      <th>female_smokers</th>\n",
              "      <th>male_smokers</th>\n",
              "      <th>handwashing_facilities</th>\n",
              "      <th>hospital_beds_per_thousand</th>\n",
              "      <th>life_expectancy</th>\n",
              "      <th>human_development_index</th>\n",
              "    </tr>\n",
              "  </thead>\n",
              "  <tbody>\n",
              "    <tr>\n",
              "      <th>0</th>\n",
              "      <td>AFG</td>\n",
              "      <td>Asia</td>\n",
              "      <td>Afghanistan</td>\n",
              "      <td>31/12/19</td>\n",
              "      <td>NaN</td>\n",
              "      <td>0.0</td>\n",
              "      <td>NaN</td>\n",
              "      <td>NaN</td>\n",
              "      <td>0.0</td>\n",
              "      <td>NaN</td>\n",
              "      <td>...</td>\n",
              "      <td>1803.987</td>\n",
              "      <td>NaN</td>\n",
              "      <td>597.029</td>\n",
              "      <td>9.59</td>\n",
              "      <td>NaN</td>\n",
              "      <td>NaN</td>\n",
              "      <td>37.746</td>\n",
              "      <td>0.5</td>\n",
              "      <td>64.83</td>\n",
              "      <td>0.498</td>\n",
              "    </tr>\n",
              "    <tr>\n",
              "      <th>1</th>\n",
              "      <td>AFG</td>\n",
              "      <td>Asia</td>\n",
              "      <td>Afghanistan</td>\n",
              "      <td>01/01/20</td>\n",
              "      <td>NaN</td>\n",
              "      <td>0.0</td>\n",
              "      <td>NaN</td>\n",
              "      <td>NaN</td>\n",
              "      <td>0.0</td>\n",
              "      <td>NaN</td>\n",
              "      <td>...</td>\n",
              "      <td>1803.987</td>\n",
              "      <td>NaN</td>\n",
              "      <td>597.029</td>\n",
              "      <td>9.59</td>\n",
              "      <td>NaN</td>\n",
              "      <td>NaN</td>\n",
              "      <td>37.746</td>\n",
              "      <td>0.5</td>\n",
              "      <td>64.83</td>\n",
              "      <td>0.498</td>\n",
              "    </tr>\n",
              "    <tr>\n",
              "      <th>2</th>\n",
              "      <td>AFG</td>\n",
              "      <td>Asia</td>\n",
              "      <td>Afghanistan</td>\n",
              "      <td>02/01/20</td>\n",
              "      <td>NaN</td>\n",
              "      <td>0.0</td>\n",
              "      <td>NaN</td>\n",
              "      <td>NaN</td>\n",
              "      <td>0.0</td>\n",
              "      <td>NaN</td>\n",
              "      <td>...</td>\n",
              "      <td>1803.987</td>\n",
              "      <td>NaN</td>\n",
              "      <td>597.029</td>\n",
              "      <td>9.59</td>\n",
              "      <td>NaN</td>\n",
              "      <td>NaN</td>\n",
              "      <td>37.746</td>\n",
              "      <td>0.5</td>\n",
              "      <td>64.83</td>\n",
              "      <td>0.498</td>\n",
              "    </tr>\n",
              "    <tr>\n",
              "      <th>3</th>\n",
              "      <td>AFG</td>\n",
              "      <td>Asia</td>\n",
              "      <td>Afghanistan</td>\n",
              "      <td>03/01/20</td>\n",
              "      <td>NaN</td>\n",
              "      <td>0.0</td>\n",
              "      <td>NaN</td>\n",
              "      <td>NaN</td>\n",
              "      <td>0.0</td>\n",
              "      <td>NaN</td>\n",
              "      <td>...</td>\n",
              "      <td>1803.987</td>\n",
              "      <td>NaN</td>\n",
              "      <td>597.029</td>\n",
              "      <td>9.59</td>\n",
              "      <td>NaN</td>\n",
              "      <td>NaN</td>\n",
              "      <td>37.746</td>\n",
              "      <td>0.5</td>\n",
              "      <td>64.83</td>\n",
              "      <td>0.498</td>\n",
              "    </tr>\n",
              "    <tr>\n",
              "      <th>4</th>\n",
              "      <td>AFG</td>\n",
              "      <td>Asia</td>\n",
              "      <td>Afghanistan</td>\n",
              "      <td>04/01/20</td>\n",
              "      <td>NaN</td>\n",
              "      <td>0.0</td>\n",
              "      <td>NaN</td>\n",
              "      <td>NaN</td>\n",
              "      <td>0.0</td>\n",
              "      <td>NaN</td>\n",
              "      <td>...</td>\n",
              "      <td>1803.987</td>\n",
              "      <td>NaN</td>\n",
              "      <td>597.029</td>\n",
              "      <td>9.59</td>\n",
              "      <td>NaN</td>\n",
              "      <td>NaN</td>\n",
              "      <td>37.746</td>\n",
              "      <td>0.5</td>\n",
              "      <td>64.83</td>\n",
              "      <td>0.498</td>\n",
              "    </tr>\n",
              "    <tr>\n",
              "      <th>...</th>\n",
              "      <td>...</td>\n",
              "      <td>...</td>\n",
              "      <td>...</td>\n",
              "      <td>...</td>\n",
              "      <td>...</td>\n",
              "      <td>...</td>\n",
              "      <td>...</td>\n",
              "      <td>...</td>\n",
              "      <td>...</td>\n",
              "      <td>...</td>\n",
              "      <td>...</td>\n",
              "      <td>...</td>\n",
              "      <td>...</td>\n",
              "      <td>...</td>\n",
              "      <td>...</td>\n",
              "      <td>...</td>\n",
              "      <td>...</td>\n",
              "      <td>...</td>\n",
              "      <td>...</td>\n",
              "      <td>...</td>\n",
              "      <td>...</td>\n",
              "    </tr>\n",
              "    <tr>\n",
              "      <th>57389</th>\n",
              "      <td>NaN</td>\n",
              "      <td>NaN</td>\n",
              "      <td>International</td>\n",
              "      <td>13/11/20</td>\n",
              "      <td>696.0</td>\n",
              "      <td>NaN</td>\n",
              "      <td>NaN</td>\n",
              "      <td>7.0</td>\n",
              "      <td>NaN</td>\n",
              "      <td>NaN</td>\n",
              "      <td>...</td>\n",
              "      <td>NaN</td>\n",
              "      <td>NaN</td>\n",
              "      <td>NaN</td>\n",
              "      <td>NaN</td>\n",
              "      <td>NaN</td>\n",
              "      <td>NaN</td>\n",
              "      <td>NaN</td>\n",
              "      <td>NaN</td>\n",
              "      <td>NaN</td>\n",
              "      <td>NaN</td>\n",
              "    </tr>\n",
              "    <tr>\n",
              "      <th>57390</th>\n",
              "      <td>NaN</td>\n",
              "      <td>NaN</td>\n",
              "      <td>International</td>\n",
              "      <td>14/11/20</td>\n",
              "      <td>696.0</td>\n",
              "      <td>NaN</td>\n",
              "      <td>NaN</td>\n",
              "      <td>7.0</td>\n",
              "      <td>NaN</td>\n",
              "      <td>NaN</td>\n",
              "      <td>...</td>\n",
              "      <td>NaN</td>\n",
              "      <td>NaN</td>\n",
              "      <td>NaN</td>\n",
              "      <td>NaN</td>\n",
              "      <td>NaN</td>\n",
              "      <td>NaN</td>\n",
              "      <td>NaN</td>\n",
              "      <td>NaN</td>\n",
              "      <td>NaN</td>\n",
              "      <td>NaN</td>\n",
              "    </tr>\n",
              "    <tr>\n",
              "      <th>57391</th>\n",
              "      <td>NaN</td>\n",
              "      <td>NaN</td>\n",
              "      <td>International</td>\n",
              "      <td>15/11/20</td>\n",
              "      <td>696.0</td>\n",
              "      <td>NaN</td>\n",
              "      <td>NaN</td>\n",
              "      <td>7.0</td>\n",
              "      <td>NaN</td>\n",
              "      <td>NaN</td>\n",
              "      <td>...</td>\n",
              "      <td>NaN</td>\n",
              "      <td>NaN</td>\n",
              "      <td>NaN</td>\n",
              "      <td>NaN</td>\n",
              "      <td>NaN</td>\n",
              "      <td>NaN</td>\n",
              "      <td>NaN</td>\n",
              "      <td>NaN</td>\n",
              "      <td>NaN</td>\n",
              "      <td>NaN</td>\n",
              "    </tr>\n",
              "    <tr>\n",
              "      <th>57392</th>\n",
              "      <td>NaN</td>\n",
              "      <td>NaN</td>\n",
              "      <td>International</td>\n",
              "      <td>16/11/20</td>\n",
              "      <td>696.0</td>\n",
              "      <td>NaN</td>\n",
              "      <td>NaN</td>\n",
              "      <td>7.0</td>\n",
              "      <td>NaN</td>\n",
              "      <td>NaN</td>\n",
              "      <td>...</td>\n",
              "      <td>NaN</td>\n",
              "      <td>NaN</td>\n",
              "      <td>NaN</td>\n",
              "      <td>NaN</td>\n",
              "      <td>NaN</td>\n",
              "      <td>NaN</td>\n",
              "      <td>NaN</td>\n",
              "      <td>NaN</td>\n",
              "      <td>NaN</td>\n",
              "      <td>NaN</td>\n",
              "    </tr>\n",
              "    <tr>\n",
              "      <th>57393</th>\n",
              "      <td>NaN</td>\n",
              "      <td>NaN</td>\n",
              "      <td>International</td>\n",
              "      <td>17/11/20</td>\n",
              "      <td>696.0</td>\n",
              "      <td>NaN</td>\n",
              "      <td>NaN</td>\n",
              "      <td>7.0</td>\n",
              "      <td>NaN</td>\n",
              "      <td>NaN</td>\n",
              "      <td>...</td>\n",
              "      <td>NaN</td>\n",
              "      <td>NaN</td>\n",
              "      <td>NaN</td>\n",
              "      <td>NaN</td>\n",
              "      <td>NaN</td>\n",
              "      <td>NaN</td>\n",
              "      <td>NaN</td>\n",
              "      <td>NaN</td>\n",
              "      <td>NaN</td>\n",
              "      <td>NaN</td>\n",
              "    </tr>\n",
              "  </tbody>\n",
              "</table>\n",
              "<p>57394 rows × 49 columns</p>\n",
              "</div>\n",
              "      <button class=\"colab-df-convert\" onclick=\"convertToInteractive('df-52ce7d0d-4e8d-4220-91a3-81da473dc3d6')\"\n",
              "              title=\"Convert this dataframe to an interactive table.\"\n",
              "              style=\"display:none;\">\n",
              "        \n",
              "  <svg xmlns=\"http://www.w3.org/2000/svg\" height=\"24px\"viewBox=\"0 0 24 24\"\n",
              "       width=\"24px\">\n",
              "    <path d=\"M0 0h24v24H0V0z\" fill=\"none\"/>\n",
              "    <path d=\"M18.56 5.44l.94 2.06.94-2.06 2.06-.94-2.06-.94-.94-2.06-.94 2.06-2.06.94zm-11 1L8.5 8.5l.94-2.06 2.06-.94-2.06-.94L8.5 2.5l-.94 2.06-2.06.94zm10 10l.94 2.06.94-2.06 2.06-.94-2.06-.94-.94-2.06-.94 2.06-2.06.94z\"/><path d=\"M17.41 7.96l-1.37-1.37c-.4-.4-.92-.59-1.43-.59-.52 0-1.04.2-1.43.59L10.3 9.45l-7.72 7.72c-.78.78-.78 2.05 0 2.83L4 21.41c.39.39.9.59 1.41.59.51 0 1.02-.2 1.41-.59l7.78-7.78 2.81-2.81c.8-.78.8-2.07 0-2.86zM5.41 20L4 18.59l7.72-7.72 1.47 1.35L5.41 20z\"/>\n",
              "  </svg>\n",
              "      </button>\n",
              "      \n",
              "  <style>\n",
              "    .colab-df-container {\n",
              "      display:flex;\n",
              "      flex-wrap:wrap;\n",
              "      gap: 12px;\n",
              "    }\n",
              "\n",
              "    .colab-df-convert {\n",
              "      background-color: #E8F0FE;\n",
              "      border: none;\n",
              "      border-radius: 50%;\n",
              "      cursor: pointer;\n",
              "      display: none;\n",
              "      fill: #1967D2;\n",
              "      height: 32px;\n",
              "      padding: 0 0 0 0;\n",
              "      width: 32px;\n",
              "    }\n",
              "\n",
              "    .colab-df-convert:hover {\n",
              "      background-color: #E2EBFA;\n",
              "      box-shadow: 0px 1px 2px rgba(60, 64, 67, 0.3), 0px 1px 3px 1px rgba(60, 64, 67, 0.15);\n",
              "      fill: #174EA6;\n",
              "    }\n",
              "\n",
              "    [theme=dark] .colab-df-convert {\n",
              "      background-color: #3B4455;\n",
              "      fill: #D2E3FC;\n",
              "    }\n",
              "\n",
              "    [theme=dark] .colab-df-convert:hover {\n",
              "      background-color: #434B5C;\n",
              "      box-shadow: 0px 1px 3px 1px rgba(0, 0, 0, 0.15);\n",
              "      filter: drop-shadow(0px 1px 2px rgba(0, 0, 0, 0.3));\n",
              "      fill: #FFFFFF;\n",
              "    }\n",
              "  </style>\n",
              "\n",
              "      <script>\n",
              "        const buttonEl =\n",
              "          document.querySelector('#df-52ce7d0d-4e8d-4220-91a3-81da473dc3d6 button.colab-df-convert');\n",
              "        buttonEl.style.display =\n",
              "          google.colab.kernel.accessAllowed ? 'block' : 'none';\n",
              "\n",
              "        async function convertToInteractive(key) {\n",
              "          const element = document.querySelector('#df-52ce7d0d-4e8d-4220-91a3-81da473dc3d6');\n",
              "          const dataTable =\n",
              "            await google.colab.kernel.invokeFunction('convertToInteractive',\n",
              "                                                     [key], {});\n",
              "          if (!dataTable) return;\n",
              "\n",
              "          const docLinkHtml = 'Like what you see? Visit the ' +\n",
              "            '<a target=\"_blank\" href=https://colab.research.google.com/notebooks/data_table.ipynb>data table notebook</a>'\n",
              "            + ' to learn more about interactive tables.';\n",
              "          element.innerHTML = '';\n",
              "          dataTable['output_type'] = 'display_data';\n",
              "          await google.colab.output.renderOutput(dataTable, element);\n",
              "          const docLink = document.createElement('div');\n",
              "          docLink.innerHTML = docLinkHtml;\n",
              "          element.appendChild(docLink);\n",
              "        }\n",
              "      </script>\n",
              "    </div>\n",
              "  </div>\n",
              "  "
            ]
          },
          "metadata": {},
          "execution_count": 188
        }
      ],
      "source": [
        "import numpy as np\n",
        "import pandas as pd\n",
        "import seaborn as sns\n",
        "\n",
        "Url = 'https://raw.githubusercontent.com/SR1608/Datasets/main/covid-data.csv'\n",
        "df = pd.read_csv(Url)\n",
        "df"
      ]
    },
    {
      "cell_type": "markdown",
      "source": [
        "2. High Level Data Understanding:\n",
        "\n",
        "  Find no. of rows & columns in the dataset.\n",
        "\n",
        "  Data types of columns.\n",
        "  \n",
        "  Info & describe of data in dataframe.\n",
        "\n"
      ],
      "metadata": {
        "id": "864Ain5fFZos"
      }
    },
    {
      "cell_type": "code",
      "source": [
        "print(\">>>2a. No. Rows and columns in the DataSet \\n\", '-'*40, sep='')\n",
        "print(\"Rows in Dataset:-\",df.shape[0])\n",
        "print(\"Columns in Dataset:-\",df.shape[1])"
      ],
      "metadata": {
        "colab": {
          "base_uri": "https://localhost:8080/"
        },
        "id": "kKNhKXQCE-wK",
        "outputId": "7a3bbb44-62fb-4607-cfc8-e4ff8fe69d92"
      },
      "execution_count": 100,
      "outputs": [
        {
          "output_type": "stream",
          "name": "stdout",
          "text": [
            ">>>2a. No. Rows and columns in the DataSet \n",
            "----------------------------------------\n",
            "Rows in Dataset:- 57394\n",
            "Columns in Dataset:- 49\n"
          ]
        }
      ]
    },
    {
      "cell_type": "code",
      "source": [
        "print(\">>>2b. Data types of columns in the DataSet \\n\", '-'*40, sep='')\n",
        "print(df.dtypes)"
      ],
      "metadata": {
        "colab": {
          "base_uri": "https://localhost:8080/"
        },
        "id": "ye3R7VXjL5-5",
        "outputId": "9b2a0bf8-d47e-4d05-fcb4-4b2394d1949c"
      },
      "execution_count": 101,
      "outputs": [
        {
          "output_type": "stream",
          "name": "stdout",
          "text": [
            ">>>2b. Data types of columns in the DataSet \n",
            "----------------------------------------\n",
            "iso_code                               object\n",
            "continent                              object\n",
            "location                               object\n",
            "date                                   object\n",
            "total_cases                           float64\n",
            "new_cases                             float64\n",
            "new_cases_smoothed                    float64\n",
            "total_deaths                          float64\n",
            "new_deaths                            float64\n",
            "new_deaths_smoothed                   float64\n",
            "total_cases_per_million               float64\n",
            "new_cases_per_million                 float64\n",
            "new_cases_smoothed_per_million        float64\n",
            "total_deaths_per_million              float64\n",
            "new_deaths_per_million                float64\n",
            "new_deaths_smoothed_per_million       float64\n",
            "reproduction_rate                     float64\n",
            "icu_patients                          float64\n",
            "icu_patients_per_million              float64\n",
            "hosp_patients                         float64\n",
            "hosp_patients_per_million             float64\n",
            "weekly_icu_admissions                 float64\n",
            "weekly_icu_admissions_per_million     float64\n",
            "weekly_hosp_admissions                float64\n",
            "weekly_hosp_admissions_per_million    float64\n",
            "total_tests                           float64\n",
            "new_tests                             float64\n",
            "total_tests_per_thousand              float64\n",
            "new_tests_per_thousand                float64\n",
            "new_tests_smoothed                    float64\n",
            "new_tests_smoothed_per_thousand       float64\n",
            "tests_per_case                        float64\n",
            "positive_rate                         float64\n",
            "stringency_index                      float64\n",
            "population                            float64\n",
            "population_density                    float64\n",
            "median_age                            float64\n",
            "aged_65_older                         float64\n",
            "aged_70_older                         float64\n",
            "gdp_per_capita                        float64\n",
            "extreme_poverty                       float64\n",
            "cardiovasc_death_rate                 float64\n",
            "diabetes_prevalence                   float64\n",
            "female_smokers                        float64\n",
            "male_smokers                          float64\n",
            "handwashing_facilities                float64\n",
            "hospital_beds_per_thousand            float64\n",
            "life_expectancy                       float64\n",
            "human_development_index               float64\n",
            "dtype: object\n"
          ]
        }
      ]
    },
    {
      "cell_type": "code",
      "source": [
        "print(\">>>2c. Info & describe of data in dataframe \\n\", '-'*40, sep='')\n",
        "print(\"Describe:-\\n\", df.describe)\n",
        "print(\"Info:-\\n\",df.info())"
      ],
      "metadata": {
        "colab": {
          "base_uri": "https://localhost:8080/"
        },
        "id": "PjA0mF4uL6TJ",
        "outputId": "cdcbd36f-b154-48c0-daa4-2f91f0c9f749"
      },
      "execution_count": 103,
      "outputs": [
        {
          "output_type": "stream",
          "name": "stdout",
          "text": [
            ">>>2c. Info & describe of data in dataframe \n",
            "----------------------------------------\n",
            "Describe:-\n",
            " <bound method NDFrame.describe of       iso_code continent       location      date  total_cases  new_cases  \\\n",
            "0          AFG      Asia    Afghanistan  31/12/19          NaN        0.0   \n",
            "1          AFG      Asia    Afghanistan  01/01/20          NaN        0.0   \n",
            "2          AFG      Asia    Afghanistan  02/01/20          NaN        0.0   \n",
            "3          AFG      Asia    Afghanistan  03/01/20          NaN        0.0   \n",
            "4          AFG      Asia    Afghanistan  04/01/20          NaN        0.0   \n",
            "...        ...       ...            ...       ...          ...        ...   \n",
            "57389      NaN       NaN  International  13/11/20        696.0        NaN   \n",
            "57390      NaN       NaN  International  14/11/20        696.0        NaN   \n",
            "57391      NaN       NaN  International  15/11/20        696.0        NaN   \n",
            "57392      NaN       NaN  International  16/11/20        696.0        NaN   \n",
            "57393      NaN       NaN  International  17/11/20        696.0        NaN   \n",
            "\n",
            "       new_cases_smoothed  total_deaths  new_deaths  new_deaths_smoothed  ...  \\\n",
            "0                     NaN           NaN         0.0                  NaN  ...   \n",
            "1                     NaN           NaN         0.0                  NaN  ...   \n",
            "2                     NaN           NaN         0.0                  NaN  ...   \n",
            "3                     NaN           NaN         0.0                  NaN  ...   \n",
            "4                     NaN           NaN         0.0                  NaN  ...   \n",
            "...                   ...           ...         ...                  ...  ...   \n",
            "57389                 NaN           7.0         NaN                  NaN  ...   \n",
            "57390                 NaN           7.0         NaN                  NaN  ...   \n",
            "57391                 NaN           7.0         NaN                  NaN  ...   \n",
            "57392                 NaN           7.0         NaN                  NaN  ...   \n",
            "57393                 NaN           7.0         NaN                  NaN  ...   \n",
            "\n",
            "       gdp_per_capita  extreme_poverty  cardiovasc_death_rate  \\\n",
            "0            1803.987              NaN                597.029   \n",
            "1            1803.987              NaN                597.029   \n",
            "2            1803.987              NaN                597.029   \n",
            "3            1803.987              NaN                597.029   \n",
            "4            1803.987              NaN                597.029   \n",
            "...               ...              ...                    ...   \n",
            "57389             NaN              NaN                    NaN   \n",
            "57390             NaN              NaN                    NaN   \n",
            "57391             NaN              NaN                    NaN   \n",
            "57392             NaN              NaN                    NaN   \n",
            "57393             NaN              NaN                    NaN   \n",
            "\n",
            "       diabetes_prevalence  female_smokers  male_smokers  \\\n",
            "0                     9.59             NaN           NaN   \n",
            "1                     9.59             NaN           NaN   \n",
            "2                     9.59             NaN           NaN   \n",
            "3                     9.59             NaN           NaN   \n",
            "4                     9.59             NaN           NaN   \n",
            "...                    ...             ...           ...   \n",
            "57389                  NaN             NaN           NaN   \n",
            "57390                  NaN             NaN           NaN   \n",
            "57391                  NaN             NaN           NaN   \n",
            "57392                  NaN             NaN           NaN   \n",
            "57393                  NaN             NaN           NaN   \n",
            "\n",
            "       handwashing_facilities  hospital_beds_per_thousand  life_expectancy  \\\n",
            "0                      37.746                         0.5            64.83   \n",
            "1                      37.746                         0.5            64.83   \n",
            "2                      37.746                         0.5            64.83   \n",
            "3                      37.746                         0.5            64.83   \n",
            "4                      37.746                         0.5            64.83   \n",
            "...                       ...                         ...              ...   \n",
            "57389                     NaN                         NaN              NaN   \n",
            "57390                     NaN                         NaN              NaN   \n",
            "57391                     NaN                         NaN              NaN   \n",
            "57392                     NaN                         NaN              NaN   \n",
            "57393                     NaN                         NaN              NaN   \n",
            "\n",
            "       human_development_index  \n",
            "0                        0.498  \n",
            "1                        0.498  \n",
            "2                        0.498  \n",
            "3                        0.498  \n",
            "4                        0.498  \n",
            "...                        ...  \n",
            "57389                      NaN  \n",
            "57390                      NaN  \n",
            "57391                      NaN  \n",
            "57392                      NaN  \n",
            "57393                      NaN  \n",
            "\n",
            "[57394 rows x 49 columns]>\n",
            "<class 'pandas.core.frame.DataFrame'>\n",
            "RangeIndex: 57394 entries, 0 to 57393\n",
            "Data columns (total 49 columns):\n",
            " #   Column                              Non-Null Count  Dtype  \n",
            "---  ------                              --------------  -----  \n",
            " 0   iso_code                            57071 non-null  object \n",
            " 1   continent                           56748 non-null  object \n",
            " 2   location                            57394 non-null  object \n",
            " 3   date                                57394 non-null  object \n",
            " 4   total_cases                         53758 non-null  float64\n",
            " 5   new_cases                           56465 non-null  float64\n",
            " 6   new_cases_smoothed                  55652 non-null  float64\n",
            " 7   total_deaths                        44368 non-null  float64\n",
            " 8   new_deaths                          56465 non-null  float64\n",
            " 9   new_deaths_smoothed                 55652 non-null  float64\n",
            " 10  total_cases_per_million             53471 non-null  float64\n",
            " 11  new_cases_per_million               56401 non-null  float64\n",
            " 12  new_cases_smoothed_per_million      55587 non-null  float64\n",
            " 13  total_deaths_per_million            44096 non-null  float64\n",
            " 14  new_deaths_per_million              56401 non-null  float64\n",
            " 15  new_deaths_smoothed_per_million     55587 non-null  float64\n",
            " 16  reproduction_rate                   37696 non-null  float64\n",
            " 17  icu_patients                        4490 non-null   float64\n",
            " 18  icu_patients_per_million            4490 non-null   float64\n",
            " 19  hosp_patients                       5005 non-null   float64\n",
            " 20  hosp_patients_per_million           5005 non-null   float64\n",
            " 21  weekly_icu_admissions               357 non-null    float64\n",
            " 22  weekly_icu_admissions_per_million   357 non-null    float64\n",
            " 23  weekly_hosp_admissions              645 non-null    float64\n",
            " 24  weekly_hosp_admissions_per_million  645 non-null    float64\n",
            " 25  total_tests                         22017 non-null  float64\n",
            " 26  new_tests                           21787 non-null  float64\n",
            " 27  total_tests_per_thousand            22017 non-null  float64\n",
            " 28  new_tests_per_thousand              21787 non-null  float64\n",
            " 29  new_tests_smoothed                  24612 non-null  float64\n",
            " 30  new_tests_smoothed_per_thousand     24612 non-null  float64\n",
            " 31  tests_per_case                      22802 non-null  float64\n",
            " 32  positive_rate                       23211 non-null  float64\n",
            " 33  stringency_index                    47847 non-null  float64\n",
            " 34  population                          57071 non-null  float64\n",
            " 35  population_density                  54371 non-null  float64\n",
            " 36  median_age                          51034 non-null  float64\n",
            " 37  aged_65_older                       50265 non-null  float64\n",
            " 38  aged_70_older                       50768 non-null  float64\n",
            " 39  gdp_per_capita                      50367 non-null  float64\n",
            " 40  extreme_poverty                     33571 non-null  float64\n",
            " 41  cardiovasc_death_rate               51013 non-null  float64\n",
            " 42  diabetes_prevalence                 52881 non-null  float64\n",
            " 43  female_smokers                      39669 non-null  float64\n",
            " 44  male_smokers                        39156 non-null  float64\n",
            " 45  handwashing_facilities              24176 non-null  float64\n",
            " 46  hospital_beds_per_thousand          45936 non-null  float64\n",
            " 47  life_expectancy                     56336 non-null  float64\n",
            " 48  human_development_index             49247 non-null  float64\n",
            "dtypes: float64(45), object(4)\n",
            "memory usage: 21.5+ MB\n",
            "Info:-\n",
            " None\n"
          ]
        }
      ]
    },
    {
      "cell_type": "code",
      "source": [],
      "metadata": {
        "id": "MZW-1T3UL6jV"
      },
      "execution_count": null,
      "outputs": []
    },
    {
      "cell_type": "markdown",
      "source": [
        "3. Low Level Data Understanding : \n",
        "\n",
        "    a. Find count of unique values in location column. \n",
        "\n",
        "    b. Find which continent has maximum frequency using values counts. \n",
        "\n",
        "    c. Find maximum & mean value in 'total_cases'. \n",
        "\n",
        "    d. Find 25%,50% & 75% quartile value in 'total_deaths'.\n",
        "\n",
        "    e. Find which continent has maximum 'human_development_index'. \n",
        "\n",
        "    f. Find which continent has minimum 'gdp_per_capita'."
      ],
      "metadata": {
        "id": "susNsJ9dIUKo"
      }
    },
    {
      "cell_type": "code",
      "source": [
        "print(\">>>3a. count of unique values in location column \\n\", '-'*40, sep='')\n",
        "df['location'].nunique()"
      ],
      "metadata": {
        "colab": {
          "base_uri": "https://localhost:8080/"
        },
        "id": "vvJ5glGEIdMG",
        "outputId": "74a75d7a-c3dc-47f1-cb9c-a861790c0663"
      },
      "execution_count": 97,
      "outputs": [
        {
          "output_type": "stream",
          "name": "stdout",
          "text": [
            ">>>3a. count of unique values in location column \n",
            "----------------------------------------\n"
          ]
        },
        {
          "output_type": "execute_result",
          "data": {
            "text/plain": [
              "216"
            ]
          },
          "metadata": {},
          "execution_count": 97
        }
      ]
    },
    {
      "cell_type": "code",
      "source": [
        "print(\"\\n>>Total Values in Continent\\n\",'-'*30,\"\\n\",df['continent'].value_counts())\n",
        "print(\"\\n>>3b. Max frequency is\\n\",'-'*30,\"\\n\",df['continent'].value_counts().index[0])"
      ],
      "metadata": {
        "colab": {
          "base_uri": "https://localhost:8080/"
        },
        "id": "3Sw5-da-MG-6",
        "outputId": "65a321dc-2d90-46fd-8c8f-e2ad598de6f4"
      },
      "execution_count": 98,
      "outputs": [
        {
          "output_type": "stream",
          "name": "stdout",
          "text": [
            "\n",
            ">>Total Values in Continent\n",
            " ------------------------------ \n",
            " Europe           14828\n",
            "Africa           13637\n",
            "Asia             13528\n",
            "North America     9116\n",
            "South America     3404\n",
            "Oceania           2235\n",
            "Name: continent, dtype: int64\n",
            "\n",
            ">>3b. Max frequency is\n",
            " ------------------------------ \n",
            " Europe\n"
          ]
        }
      ]
    },
    {
      "cell_type": "code",
      "source": [
        "print(\">>>3c. maximum & mean value in 'total_cases \\n\", '-'*45, sep='')\n",
        "print(\"Mean of Total_cases :- \",df['total_cases'].mean())\n",
        "print(\"Maximum of Total_cases:- \",df['total_cases'].max())"
      ],
      "metadata": {
        "colab": {
          "base_uri": "https://localhost:8080/"
        },
        "id": "uafgNrGSONrG",
        "outputId": "9270cf56-94f9-416d-88ac-84a055317552"
      },
      "execution_count": 110,
      "outputs": [
        {
          "output_type": "stream",
          "name": "stdout",
          "text": [
            ">>>3c. maximum & mean value in 'total_cases \n",
            "---------------------------------------------\n",
            "Mean of Total_cases :-  167797.3688753302\n",
            "Maximum of Total_cases:-  55154651.0\n"
          ]
        }
      ]
    },
    {
      "cell_type": "code",
      "source": [
        "print(\">>>3d. 25%,50% & 75% quartile value in 'total_deaths'\\n\", '-'*55, sep='')\n",
        "print(\"25% quartile of total deaths: \",df.total_deaths.quantile(0.25))\n",
        "print(\"50% quartile of total deaths: \",df.total_deaths.quantile(0.50))\n",
        "print(\"75% quartile of total deaths: \",df.total_deaths.quantile(0.75))"
      ],
      "metadata": {
        "colab": {
          "base_uri": "https://localhost:8080/"
        },
        "id": "DudWAgQrPlia",
        "outputId": "f8ca7ba0-f4b0-41a9-bc2f-d5cc0ce62632"
      },
      "execution_count": 114,
      "outputs": [
        {
          "output_type": "stream",
          "name": "stdout",
          "text": [
            ">>>3d. 25%,50% & 75% quartile value in 'total_deaths'\n",
            "-------------------------------------------------------\n",
            "25% quartile of total deaths:  13.0\n",
            "50% quartile of total deaths:  84.0\n",
            "75% quartile of total deaths:  727.0\n"
          ]
        }
      ]
    },
    {
      "cell_type": "code",
      "source": [
        "print(\">>>3e. continent has maximum 'human_development_index' \\n\", '-'*57, sep='')\n",
        "print(\"Continent name: \",df.loc[df[\"human_development_index\"].idxmax()][\"continent\"])\n",
        "print(\"max human_development_index: \",df[\"human_development_index\"].max())"
      ],
      "metadata": {
        "colab": {
          "base_uri": "https://localhost:8080/"
        },
        "id": "re3Si9XVWnNA",
        "outputId": "cbdbe85c-8cd9-44f6-897d-67bba5f4b58a"
      },
      "execution_count": 130,
      "outputs": [
        {
          "output_type": "stream",
          "name": "stdout",
          "text": [
            ">>>3e. continent has maximum 'human_development_index' \n",
            "---------------------------------------------------------\n",
            "Continent name:  Europe\n",
            "max human_development_index:  0.953\n"
          ]
        }
      ]
    },
    {
      "cell_type": "code",
      "source": [
        "print(\">>>3f. continent has minimum 'gdp_per_capita'. \\n\", '-'*57, sep='')\n",
        "print(\"Continent name: \",df.loc[df[\"gdp_per_capita\"].idxmax()][\"continent\"])\n",
        "print(\"minimum gdp_per_capita: \",df[\"gdp_per_capita\"].max())"
      ],
      "metadata": {
        "colab": {
          "base_uri": "https://localhost:8080/"
        },
        "id": "bbq_tB7iW9Or",
        "outputId": "d197cada-c7e8-4f68-e315-c7013d354306"
      },
      "execution_count": 137,
      "outputs": [
        {
          "output_type": "stream",
          "name": "stdout",
          "text": [
            ">>>3f. continent has minimum 'gdp_per_capita'. \n",
            "---------------------------------------------------------\n",
            "Continent name:  Asia\n",
            "minimum gdp_per_capita:  116935.6\n"
          ]
        }
      ]
    },
    {
      "cell_type": "markdown",
      "source": [
        "4. Filter the dataframe with only this columns ['continent','location','date','total_cases','total_deaths','gdp_per_capita',' human_development_index'] and update the data frame."
      ],
      "metadata": {
        "id": "Cs9q6Vb9bfFX"
      }
    },
    {
      "cell_type": "code",
      "source": [
        "print(\">>>4. Data Frame of given columns and updated \\n\", '-'*57, sep='')\n",
        "df = df[['continent', 'location', 'date', 'total_cases', 'total_deaths', 'gdp_per_capita', 'human_development_index']]\n",
        "df"
      ],
      "metadata": {
        "colab": {
          "base_uri": "https://localhost:8080/",
          "height": 458
        },
        "id": "jIg7KfnIbYHx",
        "outputId": "4ee9c977-045d-45c8-8cec-a9d1c69f74c7"
      },
      "execution_count": 194,
      "outputs": [
        {
          "output_type": "stream",
          "name": "stdout",
          "text": [
            ">>>4. Data Frame of given columns and updated \n",
            "---------------------------------------------------------\n"
          ]
        },
        {
          "output_type": "execute_result",
          "data": {
            "text/plain": [
              "      continent       location      date  total_cases  total_deaths  \\\n",
              "0          Asia    Afghanistan  31/12/19          0.0           0.0   \n",
              "1          Asia    Afghanistan  01/01/20          0.0           0.0   \n",
              "2          Asia    Afghanistan  02/01/20          0.0           0.0   \n",
              "3          Asia    Afghanistan  03/01/20          0.0           0.0   \n",
              "4          Asia    Afghanistan  04/01/20          0.0           0.0   \n",
              "...         ...            ...       ...          ...           ...   \n",
              "57389         0  International  13/11/20        696.0           7.0   \n",
              "57390         0  International  14/11/20        696.0           7.0   \n",
              "57391         0  International  15/11/20        696.0           7.0   \n",
              "57392         0  International  16/11/20        696.0           7.0   \n",
              "57393         0  International  17/11/20        696.0           7.0   \n",
              "\n",
              "       gdp_per_capita  human_development_index  \n",
              "0            1803.987                    0.498  \n",
              "1            1803.987                    0.498  \n",
              "2            1803.987                    0.498  \n",
              "3            1803.987                    0.498  \n",
              "4            1803.987                    0.498  \n",
              "...               ...                      ...  \n",
              "57389           0.000                    0.000  \n",
              "57390           0.000                    0.000  \n",
              "57391           0.000                    0.000  \n",
              "57392           0.000                    0.000  \n",
              "57393           0.000                    0.000  \n",
              "\n",
              "[57394 rows x 7 columns]"
            ],
            "text/html": [
              "\n",
              "  <div id=\"df-feab537a-e35a-446e-947e-d2d02a309dbd\">\n",
              "    <div class=\"colab-df-container\">\n",
              "      <div>\n",
              "<style scoped>\n",
              "    .dataframe tbody tr th:only-of-type {\n",
              "        vertical-align: middle;\n",
              "    }\n",
              "\n",
              "    .dataframe tbody tr th {\n",
              "        vertical-align: top;\n",
              "    }\n",
              "\n",
              "    .dataframe thead th {\n",
              "        text-align: right;\n",
              "    }\n",
              "</style>\n",
              "<table border=\"1\" class=\"dataframe\">\n",
              "  <thead>\n",
              "    <tr style=\"text-align: right;\">\n",
              "      <th></th>\n",
              "      <th>continent</th>\n",
              "      <th>location</th>\n",
              "      <th>date</th>\n",
              "      <th>total_cases</th>\n",
              "      <th>total_deaths</th>\n",
              "      <th>gdp_per_capita</th>\n",
              "      <th>human_development_index</th>\n",
              "    </tr>\n",
              "  </thead>\n",
              "  <tbody>\n",
              "    <tr>\n",
              "      <th>0</th>\n",
              "      <td>Asia</td>\n",
              "      <td>Afghanistan</td>\n",
              "      <td>31/12/19</td>\n",
              "      <td>0.0</td>\n",
              "      <td>0.0</td>\n",
              "      <td>1803.987</td>\n",
              "      <td>0.498</td>\n",
              "    </tr>\n",
              "    <tr>\n",
              "      <th>1</th>\n",
              "      <td>Asia</td>\n",
              "      <td>Afghanistan</td>\n",
              "      <td>01/01/20</td>\n",
              "      <td>0.0</td>\n",
              "      <td>0.0</td>\n",
              "      <td>1803.987</td>\n",
              "      <td>0.498</td>\n",
              "    </tr>\n",
              "    <tr>\n",
              "      <th>2</th>\n",
              "      <td>Asia</td>\n",
              "      <td>Afghanistan</td>\n",
              "      <td>02/01/20</td>\n",
              "      <td>0.0</td>\n",
              "      <td>0.0</td>\n",
              "      <td>1803.987</td>\n",
              "      <td>0.498</td>\n",
              "    </tr>\n",
              "    <tr>\n",
              "      <th>3</th>\n",
              "      <td>Asia</td>\n",
              "      <td>Afghanistan</td>\n",
              "      <td>03/01/20</td>\n",
              "      <td>0.0</td>\n",
              "      <td>0.0</td>\n",
              "      <td>1803.987</td>\n",
              "      <td>0.498</td>\n",
              "    </tr>\n",
              "    <tr>\n",
              "      <th>4</th>\n",
              "      <td>Asia</td>\n",
              "      <td>Afghanistan</td>\n",
              "      <td>04/01/20</td>\n",
              "      <td>0.0</td>\n",
              "      <td>0.0</td>\n",
              "      <td>1803.987</td>\n",
              "      <td>0.498</td>\n",
              "    </tr>\n",
              "    <tr>\n",
              "      <th>...</th>\n",
              "      <td>...</td>\n",
              "      <td>...</td>\n",
              "      <td>...</td>\n",
              "      <td>...</td>\n",
              "      <td>...</td>\n",
              "      <td>...</td>\n",
              "      <td>...</td>\n",
              "    </tr>\n",
              "    <tr>\n",
              "      <th>57389</th>\n",
              "      <td>0</td>\n",
              "      <td>International</td>\n",
              "      <td>13/11/20</td>\n",
              "      <td>696.0</td>\n",
              "      <td>7.0</td>\n",
              "      <td>0.000</td>\n",
              "      <td>0.000</td>\n",
              "    </tr>\n",
              "    <tr>\n",
              "      <th>57390</th>\n",
              "      <td>0</td>\n",
              "      <td>International</td>\n",
              "      <td>14/11/20</td>\n",
              "      <td>696.0</td>\n",
              "      <td>7.0</td>\n",
              "      <td>0.000</td>\n",
              "      <td>0.000</td>\n",
              "    </tr>\n",
              "    <tr>\n",
              "      <th>57391</th>\n",
              "      <td>0</td>\n",
              "      <td>International</td>\n",
              "      <td>15/11/20</td>\n",
              "      <td>696.0</td>\n",
              "      <td>7.0</td>\n",
              "      <td>0.000</td>\n",
              "      <td>0.000</td>\n",
              "    </tr>\n",
              "    <tr>\n",
              "      <th>57392</th>\n",
              "      <td>0</td>\n",
              "      <td>International</td>\n",
              "      <td>16/11/20</td>\n",
              "      <td>696.0</td>\n",
              "      <td>7.0</td>\n",
              "      <td>0.000</td>\n",
              "      <td>0.000</td>\n",
              "    </tr>\n",
              "    <tr>\n",
              "      <th>57393</th>\n",
              "      <td>0</td>\n",
              "      <td>International</td>\n",
              "      <td>17/11/20</td>\n",
              "      <td>696.0</td>\n",
              "      <td>7.0</td>\n",
              "      <td>0.000</td>\n",
              "      <td>0.000</td>\n",
              "    </tr>\n",
              "  </tbody>\n",
              "</table>\n",
              "<p>57394 rows × 7 columns</p>\n",
              "</div>\n",
              "      <button class=\"colab-df-convert\" onclick=\"convertToInteractive('df-feab537a-e35a-446e-947e-d2d02a309dbd')\"\n",
              "              title=\"Convert this dataframe to an interactive table.\"\n",
              "              style=\"display:none;\">\n",
              "        \n",
              "  <svg xmlns=\"http://www.w3.org/2000/svg\" height=\"24px\"viewBox=\"0 0 24 24\"\n",
              "       width=\"24px\">\n",
              "    <path d=\"M0 0h24v24H0V0z\" fill=\"none\"/>\n",
              "    <path d=\"M18.56 5.44l.94 2.06.94-2.06 2.06-.94-2.06-.94-.94-2.06-.94 2.06-2.06.94zm-11 1L8.5 8.5l.94-2.06 2.06-.94-2.06-.94L8.5 2.5l-.94 2.06-2.06.94zm10 10l.94 2.06.94-2.06 2.06-.94-2.06-.94-.94-2.06-.94 2.06-2.06.94z\"/><path d=\"M17.41 7.96l-1.37-1.37c-.4-.4-.92-.59-1.43-.59-.52 0-1.04.2-1.43.59L10.3 9.45l-7.72 7.72c-.78.78-.78 2.05 0 2.83L4 21.41c.39.39.9.59 1.41.59.51 0 1.02-.2 1.41-.59l7.78-7.78 2.81-2.81c.8-.78.8-2.07 0-2.86zM5.41 20L4 18.59l7.72-7.72 1.47 1.35L5.41 20z\"/>\n",
              "  </svg>\n",
              "      </button>\n",
              "      \n",
              "  <style>\n",
              "    .colab-df-container {\n",
              "      display:flex;\n",
              "      flex-wrap:wrap;\n",
              "      gap: 12px;\n",
              "    }\n",
              "\n",
              "    .colab-df-convert {\n",
              "      background-color: #E8F0FE;\n",
              "      border: none;\n",
              "      border-radius: 50%;\n",
              "      cursor: pointer;\n",
              "      display: none;\n",
              "      fill: #1967D2;\n",
              "      height: 32px;\n",
              "      padding: 0 0 0 0;\n",
              "      width: 32px;\n",
              "    }\n",
              "\n",
              "    .colab-df-convert:hover {\n",
              "      background-color: #E2EBFA;\n",
              "      box-shadow: 0px 1px 2px rgba(60, 64, 67, 0.3), 0px 1px 3px 1px rgba(60, 64, 67, 0.15);\n",
              "      fill: #174EA6;\n",
              "    }\n",
              "\n",
              "    [theme=dark] .colab-df-convert {\n",
              "      background-color: #3B4455;\n",
              "      fill: #D2E3FC;\n",
              "    }\n",
              "\n",
              "    [theme=dark] .colab-df-convert:hover {\n",
              "      background-color: #434B5C;\n",
              "      box-shadow: 0px 1px 3px 1px rgba(0, 0, 0, 0.15);\n",
              "      filter: drop-shadow(0px 1px 2px rgba(0, 0, 0, 0.3));\n",
              "      fill: #FFFFFF;\n",
              "    }\n",
              "  </style>\n",
              "\n",
              "      <script>\n",
              "        const buttonEl =\n",
              "          document.querySelector('#df-feab537a-e35a-446e-947e-d2d02a309dbd button.colab-df-convert');\n",
              "        buttonEl.style.display =\n",
              "          google.colab.kernel.accessAllowed ? 'block' : 'none';\n",
              "\n",
              "        async function convertToInteractive(key) {\n",
              "          const element = document.querySelector('#df-feab537a-e35a-446e-947e-d2d02a309dbd');\n",
              "          const dataTable =\n",
              "            await google.colab.kernel.invokeFunction('convertToInteractive',\n",
              "                                                     [key], {});\n",
              "          if (!dataTable) return;\n",
              "\n",
              "          const docLinkHtml = 'Like what you see? Visit the ' +\n",
              "            '<a target=\"_blank\" href=https://colab.research.google.com/notebooks/data_table.ipynb>data table notebook</a>'\n",
              "            + ' to learn more about interactive tables.';\n",
              "          element.innerHTML = '';\n",
              "          dataTable['output_type'] = 'display_data';\n",
              "          await google.colab.output.renderOutput(dataTable, element);\n",
              "          const docLink = document.createElement('div');\n",
              "          docLink.innerHTML = docLinkHtml;\n",
              "          element.appendChild(docLink);\n",
              "        }\n",
              "      </script>\n",
              "    </div>\n",
              "  </div>\n",
              "  "
            ]
          },
          "metadata": {},
          "execution_count": 194
        }
      ]
    },
    {
      "cell_type": "markdown",
      "source": [
        "5.Data Cleaning \n",
        "\n",
        "a. Remove all duplicates observations \n",
        "\n",
        "b. Find missing values in all columns \n",
        "\n",
        "c. Remove all observations where continent column value is missing Tip : using subset parameter in dropna \n",
        "\n",
        "d. Fill all missing values with 0"
      ],
      "metadata": {
        "id": "uVBKsCsOefhH"
      }
    },
    {
      "cell_type": "code",
      "source": [
        "print(\">>>5a. Removing all duplicates observations \\n\", '-'*57, sep='')\n",
        "df.drop_duplicates(inplace=True)"
      ],
      "metadata": {
        "colab": {
          "base_uri": "https://localhost:8080/"
        },
        "id": "nJGYbpxLeqEd",
        "outputId": "0975e366-4281-494b-8d8c-01465dffd69d"
      },
      "execution_count": 195,
      "outputs": [
        {
          "output_type": "stream",
          "name": "stdout",
          "text": [
            ">>>5a. Removing all duplicates observations \n",
            "---------------------------------------------------------\n"
          ]
        },
        {
          "output_type": "stream",
          "name": "stderr",
          "text": [
            "/usr/local/lib/python3.8/dist-packages/pandas/util/_decorators.py:311: SettingWithCopyWarning: \n",
            "A value is trying to be set on a copy of a slice from a DataFrame\n",
            "\n",
            "See the caveats in the documentation: https://pandas.pydata.org/pandas-docs/stable/user_guide/indexing.html#returning-a-view-versus-a-copy\n",
            "  return func(*args, **kwargs)\n"
          ]
        }
      ]
    },
    {
      "cell_type": "code",
      "source": [
        "print(\">>>5b. missing values in all columns \\n\", '-'*57, sep='')\n",
        "print(\"\\nMissing values in each column:\\n\",df.isna().sum())"
      ],
      "metadata": {
        "colab": {
          "base_uri": "https://localhost:8080/"
        },
        "id": "eU0hfP1DhBjO",
        "outputId": "7f139d58-ea99-4ac7-fae9-da011c05fe7d"
      },
      "execution_count": 196,
      "outputs": [
        {
          "output_type": "stream",
          "name": "stdout",
          "text": [
            ">>>5b. missing values in all columns \n",
            "---------------------------------------------------------\n",
            "\n",
            "Missing values in each column:\n",
            " continent                  0\n",
            "location                   0\n",
            "date                       0\n",
            "total_cases                0\n",
            "total_deaths               0\n",
            "gdp_per_capita             0\n",
            "human_development_index    0\n",
            "dtype: int64\n"
          ]
        }
      ]
    },
    {
      "cell_type": "code",
      "source": [
        "print(\">>>5c. Removing all observations where continent column value is missing \\n\", '-'*57, sep='')\n",
        "df.dropna(subset=[\"continent\"], inplace=True)"
      ],
      "metadata": {
        "colab": {
          "base_uri": "https://localhost:8080/"
        },
        "id": "1qEAGNNChXTO",
        "outputId": "6b83b584-de85-4594-f3a5-556f6ae370fc"
      },
      "execution_count": 197,
      "outputs": [
        {
          "output_type": "stream",
          "name": "stdout",
          "text": [
            ">>>5c. Removing all observations where continent column value is missing \n",
            "---------------------------------------------------------\n"
          ]
        }
      ]
    },
    {
      "cell_type": "code",
      "source": [
        "print(\">>>5d. Filling all missing values with 0 \\n\", '-'*57, sep='')\n",
        "df.fillna(0, inplace=True)\n",
        "df"
      ],
      "metadata": {
        "colab": {
          "base_uri": "https://localhost:8080/",
          "height": 545
        },
        "id": "RSMX7MZzhyyJ",
        "outputId": "e28b8aef-b6d1-4e1e-bee0-df92ce80793e"
      },
      "execution_count": 198,
      "outputs": [
        {
          "output_type": "stream",
          "name": "stdout",
          "text": [
            ">>>5d. Filling all missing values with 0 \n",
            "---------------------------------------------------------\n"
          ]
        },
        {
          "output_type": "stream",
          "name": "stderr",
          "text": [
            "/usr/local/lib/python3.8/dist-packages/pandas/core/frame.py:5176: SettingWithCopyWarning: \n",
            "A value is trying to be set on a copy of a slice from a DataFrame\n",
            "\n",
            "See the caveats in the documentation: https://pandas.pydata.org/pandas-docs/stable/user_guide/indexing.html#returning-a-view-versus-a-copy\n",
            "  return super().fillna(\n"
          ]
        },
        {
          "output_type": "execute_result",
          "data": {
            "text/plain": [
              "      continent       location      date  total_cases  total_deaths  \\\n",
              "0          Asia    Afghanistan  31/12/19          0.0           0.0   \n",
              "1          Asia    Afghanistan  01/01/20          0.0           0.0   \n",
              "2          Asia    Afghanistan  02/01/20          0.0           0.0   \n",
              "3          Asia    Afghanistan  03/01/20          0.0           0.0   \n",
              "4          Asia    Afghanistan  04/01/20          0.0           0.0   \n",
              "...         ...            ...       ...          ...           ...   \n",
              "57389         0  International  13/11/20        696.0           7.0   \n",
              "57390         0  International  14/11/20        696.0           7.0   \n",
              "57391         0  International  15/11/20        696.0           7.0   \n",
              "57392         0  International  16/11/20        696.0           7.0   \n",
              "57393         0  International  17/11/20        696.0           7.0   \n",
              "\n",
              "       gdp_per_capita  human_development_index  \n",
              "0            1803.987                    0.498  \n",
              "1            1803.987                    0.498  \n",
              "2            1803.987                    0.498  \n",
              "3            1803.987                    0.498  \n",
              "4            1803.987                    0.498  \n",
              "...               ...                      ...  \n",
              "57389           0.000                    0.000  \n",
              "57390           0.000                    0.000  \n",
              "57391           0.000                    0.000  \n",
              "57392           0.000                    0.000  \n",
              "57393           0.000                    0.000  \n",
              "\n",
              "[57394 rows x 7 columns]"
            ],
            "text/html": [
              "\n",
              "  <div id=\"df-da65ae7a-9815-4d49-9a8a-1a9386abfa9e\">\n",
              "    <div class=\"colab-df-container\">\n",
              "      <div>\n",
              "<style scoped>\n",
              "    .dataframe tbody tr th:only-of-type {\n",
              "        vertical-align: middle;\n",
              "    }\n",
              "\n",
              "    .dataframe tbody tr th {\n",
              "        vertical-align: top;\n",
              "    }\n",
              "\n",
              "    .dataframe thead th {\n",
              "        text-align: right;\n",
              "    }\n",
              "</style>\n",
              "<table border=\"1\" class=\"dataframe\">\n",
              "  <thead>\n",
              "    <tr style=\"text-align: right;\">\n",
              "      <th></th>\n",
              "      <th>continent</th>\n",
              "      <th>location</th>\n",
              "      <th>date</th>\n",
              "      <th>total_cases</th>\n",
              "      <th>total_deaths</th>\n",
              "      <th>gdp_per_capita</th>\n",
              "      <th>human_development_index</th>\n",
              "    </tr>\n",
              "  </thead>\n",
              "  <tbody>\n",
              "    <tr>\n",
              "      <th>0</th>\n",
              "      <td>Asia</td>\n",
              "      <td>Afghanistan</td>\n",
              "      <td>31/12/19</td>\n",
              "      <td>0.0</td>\n",
              "      <td>0.0</td>\n",
              "      <td>1803.987</td>\n",
              "      <td>0.498</td>\n",
              "    </tr>\n",
              "    <tr>\n",
              "      <th>1</th>\n",
              "      <td>Asia</td>\n",
              "      <td>Afghanistan</td>\n",
              "      <td>01/01/20</td>\n",
              "      <td>0.0</td>\n",
              "      <td>0.0</td>\n",
              "      <td>1803.987</td>\n",
              "      <td>0.498</td>\n",
              "    </tr>\n",
              "    <tr>\n",
              "      <th>2</th>\n",
              "      <td>Asia</td>\n",
              "      <td>Afghanistan</td>\n",
              "      <td>02/01/20</td>\n",
              "      <td>0.0</td>\n",
              "      <td>0.0</td>\n",
              "      <td>1803.987</td>\n",
              "      <td>0.498</td>\n",
              "    </tr>\n",
              "    <tr>\n",
              "      <th>3</th>\n",
              "      <td>Asia</td>\n",
              "      <td>Afghanistan</td>\n",
              "      <td>03/01/20</td>\n",
              "      <td>0.0</td>\n",
              "      <td>0.0</td>\n",
              "      <td>1803.987</td>\n",
              "      <td>0.498</td>\n",
              "    </tr>\n",
              "    <tr>\n",
              "      <th>4</th>\n",
              "      <td>Asia</td>\n",
              "      <td>Afghanistan</td>\n",
              "      <td>04/01/20</td>\n",
              "      <td>0.0</td>\n",
              "      <td>0.0</td>\n",
              "      <td>1803.987</td>\n",
              "      <td>0.498</td>\n",
              "    </tr>\n",
              "    <tr>\n",
              "      <th>...</th>\n",
              "      <td>...</td>\n",
              "      <td>...</td>\n",
              "      <td>...</td>\n",
              "      <td>...</td>\n",
              "      <td>...</td>\n",
              "      <td>...</td>\n",
              "      <td>...</td>\n",
              "    </tr>\n",
              "    <tr>\n",
              "      <th>57389</th>\n",
              "      <td>0</td>\n",
              "      <td>International</td>\n",
              "      <td>13/11/20</td>\n",
              "      <td>696.0</td>\n",
              "      <td>7.0</td>\n",
              "      <td>0.000</td>\n",
              "      <td>0.000</td>\n",
              "    </tr>\n",
              "    <tr>\n",
              "      <th>57390</th>\n",
              "      <td>0</td>\n",
              "      <td>International</td>\n",
              "      <td>14/11/20</td>\n",
              "      <td>696.0</td>\n",
              "      <td>7.0</td>\n",
              "      <td>0.000</td>\n",
              "      <td>0.000</td>\n",
              "    </tr>\n",
              "    <tr>\n",
              "      <th>57391</th>\n",
              "      <td>0</td>\n",
              "      <td>International</td>\n",
              "      <td>15/11/20</td>\n",
              "      <td>696.0</td>\n",
              "      <td>7.0</td>\n",
              "      <td>0.000</td>\n",
              "      <td>0.000</td>\n",
              "    </tr>\n",
              "    <tr>\n",
              "      <th>57392</th>\n",
              "      <td>0</td>\n",
              "      <td>International</td>\n",
              "      <td>16/11/20</td>\n",
              "      <td>696.0</td>\n",
              "      <td>7.0</td>\n",
              "      <td>0.000</td>\n",
              "      <td>0.000</td>\n",
              "    </tr>\n",
              "    <tr>\n",
              "      <th>57393</th>\n",
              "      <td>0</td>\n",
              "      <td>International</td>\n",
              "      <td>17/11/20</td>\n",
              "      <td>696.0</td>\n",
              "      <td>7.0</td>\n",
              "      <td>0.000</td>\n",
              "      <td>0.000</td>\n",
              "    </tr>\n",
              "  </tbody>\n",
              "</table>\n",
              "<p>57394 rows × 7 columns</p>\n",
              "</div>\n",
              "      <button class=\"colab-df-convert\" onclick=\"convertToInteractive('df-da65ae7a-9815-4d49-9a8a-1a9386abfa9e')\"\n",
              "              title=\"Convert this dataframe to an interactive table.\"\n",
              "              style=\"display:none;\">\n",
              "        \n",
              "  <svg xmlns=\"http://www.w3.org/2000/svg\" height=\"24px\"viewBox=\"0 0 24 24\"\n",
              "       width=\"24px\">\n",
              "    <path d=\"M0 0h24v24H0V0z\" fill=\"none\"/>\n",
              "    <path d=\"M18.56 5.44l.94 2.06.94-2.06 2.06-.94-2.06-.94-.94-2.06-.94 2.06-2.06.94zm-11 1L8.5 8.5l.94-2.06 2.06-.94-2.06-.94L8.5 2.5l-.94 2.06-2.06.94zm10 10l.94 2.06.94-2.06 2.06-.94-2.06-.94-.94-2.06-.94 2.06-2.06.94z\"/><path d=\"M17.41 7.96l-1.37-1.37c-.4-.4-.92-.59-1.43-.59-.52 0-1.04.2-1.43.59L10.3 9.45l-7.72 7.72c-.78.78-.78 2.05 0 2.83L4 21.41c.39.39.9.59 1.41.59.51 0 1.02-.2 1.41-.59l7.78-7.78 2.81-2.81c.8-.78.8-2.07 0-2.86zM5.41 20L4 18.59l7.72-7.72 1.47 1.35L5.41 20z\"/>\n",
              "  </svg>\n",
              "      </button>\n",
              "      \n",
              "  <style>\n",
              "    .colab-df-container {\n",
              "      display:flex;\n",
              "      flex-wrap:wrap;\n",
              "      gap: 12px;\n",
              "    }\n",
              "\n",
              "    .colab-df-convert {\n",
              "      background-color: #E8F0FE;\n",
              "      border: none;\n",
              "      border-radius: 50%;\n",
              "      cursor: pointer;\n",
              "      display: none;\n",
              "      fill: #1967D2;\n",
              "      height: 32px;\n",
              "      padding: 0 0 0 0;\n",
              "      width: 32px;\n",
              "    }\n",
              "\n",
              "    .colab-df-convert:hover {\n",
              "      background-color: #E2EBFA;\n",
              "      box-shadow: 0px 1px 2px rgba(60, 64, 67, 0.3), 0px 1px 3px 1px rgba(60, 64, 67, 0.15);\n",
              "      fill: #174EA6;\n",
              "    }\n",
              "\n",
              "    [theme=dark] .colab-df-convert {\n",
              "      background-color: #3B4455;\n",
              "      fill: #D2E3FC;\n",
              "    }\n",
              "\n",
              "    [theme=dark] .colab-df-convert:hover {\n",
              "      background-color: #434B5C;\n",
              "      box-shadow: 0px 1px 3px 1px rgba(0, 0, 0, 0.15);\n",
              "      filter: drop-shadow(0px 1px 2px rgba(0, 0, 0, 0.3));\n",
              "      fill: #FFFFFF;\n",
              "    }\n",
              "  </style>\n",
              "\n",
              "      <script>\n",
              "        const buttonEl =\n",
              "          document.querySelector('#df-da65ae7a-9815-4d49-9a8a-1a9386abfa9e button.colab-df-convert');\n",
              "        buttonEl.style.display =\n",
              "          google.colab.kernel.accessAllowed ? 'block' : 'none';\n",
              "\n",
              "        async function convertToInteractive(key) {\n",
              "          const element = document.querySelector('#df-da65ae7a-9815-4d49-9a8a-1a9386abfa9e');\n",
              "          const dataTable =\n",
              "            await google.colab.kernel.invokeFunction('convertToInteractive',\n",
              "                                                     [key], {});\n",
              "          if (!dataTable) return;\n",
              "\n",
              "          const docLinkHtml = 'Like what you see? Visit the ' +\n",
              "            '<a target=\"_blank\" href=https://colab.research.google.com/notebooks/data_table.ipynb>data table notebook</a>'\n",
              "            + ' to learn more about interactive tables.';\n",
              "          element.innerHTML = '';\n",
              "          dataTable['output_type'] = 'display_data';\n",
              "          await google.colab.output.renderOutput(dataTable, element);\n",
              "          const docLink = document.createElement('div');\n",
              "          docLink.innerHTML = docLinkHtml;\n",
              "          element.appendChild(docLink);\n",
              "        }\n",
              "      </script>\n",
              "    </div>\n",
              "  </div>\n",
              "  "
            ]
          },
          "metadata": {},
          "execution_count": 198
        }
      ]
    },
    {
      "cell_type": "markdown",
      "source": [
        "6.Date time format : \n",
        "\n",
        "a. Convert date column in datetime format using pandas.to_datetime\n",
        "\n",
        "b. Create new column month after extracting month data from date column."
      ],
      "metadata": {
        "id": "KAhOYiUAgqcV"
      }
    },
    {
      "cell_type": "code",
      "source": [
        "print(\">>>6a. Convert date column in datetime format using pandas.to_datetime\\n\", '-'*57, sep='')\n",
        "import numpy as np\n",
        "import pandas as pd\n",
        "import seaborn as sns\n",
        "\n",
        "Url = 'https://raw.githubusercontent.com/SR1608/Datasets/main/covid-data.csv'\n",
        "df = pd.read_csv(Url)\n",
        "df['date'] = pd.to_datetime(df['date'])\n",
        "df.dtypes"
      ],
      "metadata": {
        "colab": {
          "base_uri": "https://localhost:8080/"
        },
        "id": "2D6DuljQflf-",
        "outputId": "cce04283-b427-4bb0-c38b-4161799265b0"
      },
      "execution_count": 201,
      "outputs": [
        {
          "output_type": "stream",
          "name": "stdout",
          "text": [
            ">>>6a. Convert date column in datetime format using pandas.to_datetime\n",
            "---------------------------------------------------------\n"
          ]
        },
        {
          "output_type": "execute_result",
          "data": {
            "text/plain": [
              "iso_code                                      object\n",
              "continent                                     object\n",
              "location                                      object\n",
              "date                                  datetime64[ns]\n",
              "total_cases                                  float64\n",
              "new_cases                                    float64\n",
              "new_cases_smoothed                           float64\n",
              "total_deaths                                 float64\n",
              "new_deaths                                   float64\n",
              "new_deaths_smoothed                          float64\n",
              "total_cases_per_million                      float64\n",
              "new_cases_per_million                        float64\n",
              "new_cases_smoothed_per_million               float64\n",
              "total_deaths_per_million                     float64\n",
              "new_deaths_per_million                       float64\n",
              "new_deaths_smoothed_per_million              float64\n",
              "reproduction_rate                            float64\n",
              "icu_patients                                 float64\n",
              "icu_patients_per_million                     float64\n",
              "hosp_patients                                float64\n",
              "hosp_patients_per_million                    float64\n",
              "weekly_icu_admissions                        float64\n",
              "weekly_icu_admissions_per_million            float64\n",
              "weekly_hosp_admissions                       float64\n",
              "weekly_hosp_admissions_per_million           float64\n",
              "total_tests                                  float64\n",
              "new_tests                                    float64\n",
              "total_tests_per_thousand                     float64\n",
              "new_tests_per_thousand                       float64\n",
              "new_tests_smoothed                           float64\n",
              "new_tests_smoothed_per_thousand              float64\n",
              "tests_per_case                               float64\n",
              "positive_rate                                float64\n",
              "stringency_index                             float64\n",
              "population                                   float64\n",
              "population_density                           float64\n",
              "median_age                                   float64\n",
              "aged_65_older                                float64\n",
              "aged_70_older                                float64\n",
              "gdp_per_capita                               float64\n",
              "extreme_poverty                              float64\n",
              "cardiovasc_death_rate                        float64\n",
              "diabetes_prevalence                          float64\n",
              "female_smokers                               float64\n",
              "male_smokers                                 float64\n",
              "handwashing_facilities                       float64\n",
              "hospital_beds_per_thousand                   float64\n",
              "life_expectancy                              float64\n",
              "human_development_index                      float64\n",
              "dtype: object"
            ]
          },
          "metadata": {},
          "execution_count": 201
        }
      ]
    },
    {
      "cell_type": "code",
      "source": [
        "print(\">>>6b. Create new column month after extracting month data from date column\\n\", '-'*57, sep='')\n",
        "df['month'] = df['date'].dt.month\n",
        "df.columns"
      ],
      "metadata": {
        "colab": {
          "base_uri": "https://localhost:8080/"
        },
        "id": "C2hlcbAJjuFY",
        "outputId": "09c265b5-1150-4339-a82d-0a680a8054ce"
      },
      "execution_count": 204,
      "outputs": [
        {
          "output_type": "stream",
          "name": "stdout",
          "text": [
            ">>>6b. Create new column month after extracting month data from date column\n",
            "---------------------------------------------------------\n"
          ]
        },
        {
          "output_type": "execute_result",
          "data": {
            "text/plain": [
              "Index(['iso_code', 'continent', 'location', 'date', 'total_cases', 'new_cases',\n",
              "       'new_cases_smoothed', 'total_deaths', 'new_deaths',\n",
              "       'new_deaths_smoothed', 'total_cases_per_million',\n",
              "       'new_cases_per_million', 'new_cases_smoothed_per_million',\n",
              "       'total_deaths_per_million', 'new_deaths_per_million',\n",
              "       'new_deaths_smoothed_per_million', 'reproduction_rate', 'icu_patients',\n",
              "       'icu_patients_per_million', 'hosp_patients',\n",
              "       'hosp_patients_per_million', 'weekly_icu_admissions',\n",
              "       'weekly_icu_admissions_per_million', 'weekly_hosp_admissions',\n",
              "       'weekly_hosp_admissions_per_million', 'total_tests', 'new_tests',\n",
              "       'total_tests_per_thousand', 'new_tests_per_thousand',\n",
              "       'new_tests_smoothed', 'new_tests_smoothed_per_thousand',\n",
              "       'tests_per_case', 'positive_rate', 'stringency_index', 'population',\n",
              "       'population_density', 'median_age', 'aged_65_older', 'aged_70_older',\n",
              "       'gdp_per_capita', 'extreme_poverty', 'cardiovasc_death_rate',\n",
              "       'diabetes_prevalence', 'female_smokers', 'male_smokers',\n",
              "       'handwashing_facilities', 'hospital_beds_per_thousand',\n",
              "       'life_expectancy', 'human_development_index', 'month'],\n",
              "      dtype='object')"
            ]
          },
          "metadata": {},
          "execution_count": 204
        }
      ]
    },
    {
      "cell_type": "markdown",
      "source": [
        "7.Data Aggregation: \n",
        "\n",
        "a. Find max value in all columns using groupby function on 'continent' column Tip: use reset_index() after applying groupby \n",
        "\n",
        "b. Store the result in a new dataframe named 'df_groupby'. (Use df_groupby dataframe for all further analysis)"
      ],
      "metadata": {
        "id": "4Pr5H6RekSyb"
      }
    },
    {
      "cell_type": "code",
      "source": [
        "print(\">>>7a&b. max value in all columns using groupby function on 'continent' column \\n\", '-'*80, sep='')\n",
        "df_groupby = df.groupby('continent').max().reset_index()\n",
        "df_groupby"
      ],
      "metadata": {
        "colab": {
          "base_uri": "https://localhost:8080/",
          "height": 504
        },
        "id": "Aid-Og-mkRJ-",
        "outputId": "90e59d68-9535-4744-e9a6-23adc8c0c602"
      },
      "execution_count": 214,
      "outputs": [
        {
          "output_type": "stream",
          "name": "stdout",
          "text": [
            ">>>7a&b. max value in all columns using groupby function on 'continent' column \n",
            "--------------------------------------------------------------------------------\n"
          ]
        },
        {
          "output_type": "execute_result",
          "data": {
            "text/plain": [
              "       continent iso_code                      location       date  \\\n",
              "0         Africa      ZWE                      Zimbabwe 2020-12-11   \n",
              "1           Asia      YEM                         Yemen 2020-12-11   \n",
              "2         Europe      VAT                       Vatican 2020-12-11   \n",
              "3  North America      VIR  United States Virgin Islands 2020-12-11   \n",
              "4        Oceania      WLF             Wallis and Futuna 2020-12-11   \n",
              "5  South America      VEN                     Venezuela 2020-12-11   \n",
              "\n",
              "   total_cases  new_cases  new_cases_smoothed  total_deaths  new_deaths  \\\n",
              "0     752269.0    13944.0           12583.714       20314.0       572.0   \n",
              "1    8874290.0    97894.0           93198.571      130519.0      2003.0   \n",
              "2    1991233.0    86852.0           54868.571       52147.0      2004.0   \n",
              "3   11205486.0   184813.0          156419.143      247220.0      4928.0   \n",
              "4      27750.0     1384.0             551.714         907.0        59.0   \n",
              "5    5876464.0    69074.0           46393.000      166014.0      3935.0   \n",
              "\n",
              "   new_deaths_smoothed  ...  extreme_poverty  cardiovasc_death_rate  \\\n",
              "0              297.429  ...             77.6                525.432   \n",
              "1             1168.000  ...             30.3                724.417   \n",
              "2             1101.000  ...              5.7                539.849   \n",
              "3             2715.143  ...             23.5                430.548   \n",
              "4               22.000  ...             25.1                561.494   \n",
              "5             1096.714  ...              7.1                373.159   \n",
              "\n",
              "   diabetes_prevalence  female_smokers  male_smokers  handwashing_facilities  \\\n",
              "0                22.02             9.7          65.8                  89.827   \n",
              "1                17.72            26.9          78.1                  98.999   \n",
              "2                10.08            44.0          58.3                  97.719   \n",
              "3                17.11            19.1          53.3                  90.650   \n",
              "4                30.53            23.5          48.8                  82.502   \n",
              "5                12.54            34.2          42.9                  80.635   \n",
              "\n",
              "   hospital_beds_per_thousand  life_expectancy  human_development_index  month  \n",
              "0                        6.30            76.88                    0.797     12  \n",
              "1                       13.05            84.86                    0.933     12  \n",
              "2                       13.80            86.75                    0.953     12  \n",
              "3                        5.80            83.92                    0.926     12  \n",
              "4                        3.84            83.44                    0.939     12  \n",
              "5                        5.00            81.44                    0.843     12  \n",
              "\n",
              "[6 rows x 50 columns]"
            ],
            "text/html": [
              "\n",
              "  <div id=\"df-140b1604-c806-4a7e-973f-8c9905d2fe13\">\n",
              "    <div class=\"colab-df-container\">\n",
              "      <div>\n",
              "<style scoped>\n",
              "    .dataframe tbody tr th:only-of-type {\n",
              "        vertical-align: middle;\n",
              "    }\n",
              "\n",
              "    .dataframe tbody tr th {\n",
              "        vertical-align: top;\n",
              "    }\n",
              "\n",
              "    .dataframe thead th {\n",
              "        text-align: right;\n",
              "    }\n",
              "</style>\n",
              "<table border=\"1\" class=\"dataframe\">\n",
              "  <thead>\n",
              "    <tr style=\"text-align: right;\">\n",
              "      <th></th>\n",
              "      <th>continent</th>\n",
              "      <th>iso_code</th>\n",
              "      <th>location</th>\n",
              "      <th>date</th>\n",
              "      <th>total_cases</th>\n",
              "      <th>new_cases</th>\n",
              "      <th>new_cases_smoothed</th>\n",
              "      <th>total_deaths</th>\n",
              "      <th>new_deaths</th>\n",
              "      <th>new_deaths_smoothed</th>\n",
              "      <th>...</th>\n",
              "      <th>extreme_poverty</th>\n",
              "      <th>cardiovasc_death_rate</th>\n",
              "      <th>diabetes_prevalence</th>\n",
              "      <th>female_smokers</th>\n",
              "      <th>male_smokers</th>\n",
              "      <th>handwashing_facilities</th>\n",
              "      <th>hospital_beds_per_thousand</th>\n",
              "      <th>life_expectancy</th>\n",
              "      <th>human_development_index</th>\n",
              "      <th>month</th>\n",
              "    </tr>\n",
              "  </thead>\n",
              "  <tbody>\n",
              "    <tr>\n",
              "      <th>0</th>\n",
              "      <td>Africa</td>\n",
              "      <td>ZWE</td>\n",
              "      <td>Zimbabwe</td>\n",
              "      <td>2020-12-11</td>\n",
              "      <td>752269.0</td>\n",
              "      <td>13944.0</td>\n",
              "      <td>12583.714</td>\n",
              "      <td>20314.0</td>\n",
              "      <td>572.0</td>\n",
              "      <td>297.429</td>\n",
              "      <td>...</td>\n",
              "      <td>77.6</td>\n",
              "      <td>525.432</td>\n",
              "      <td>22.02</td>\n",
              "      <td>9.7</td>\n",
              "      <td>65.8</td>\n",
              "      <td>89.827</td>\n",
              "      <td>6.30</td>\n",
              "      <td>76.88</td>\n",
              "      <td>0.797</td>\n",
              "      <td>12</td>\n",
              "    </tr>\n",
              "    <tr>\n",
              "      <th>1</th>\n",
              "      <td>Asia</td>\n",
              "      <td>YEM</td>\n",
              "      <td>Yemen</td>\n",
              "      <td>2020-12-11</td>\n",
              "      <td>8874290.0</td>\n",
              "      <td>97894.0</td>\n",
              "      <td>93198.571</td>\n",
              "      <td>130519.0</td>\n",
              "      <td>2003.0</td>\n",
              "      <td>1168.000</td>\n",
              "      <td>...</td>\n",
              "      <td>30.3</td>\n",
              "      <td>724.417</td>\n",
              "      <td>17.72</td>\n",
              "      <td>26.9</td>\n",
              "      <td>78.1</td>\n",
              "      <td>98.999</td>\n",
              "      <td>13.05</td>\n",
              "      <td>84.86</td>\n",
              "      <td>0.933</td>\n",
              "      <td>12</td>\n",
              "    </tr>\n",
              "    <tr>\n",
              "      <th>2</th>\n",
              "      <td>Europe</td>\n",
              "      <td>VAT</td>\n",
              "      <td>Vatican</td>\n",
              "      <td>2020-12-11</td>\n",
              "      <td>1991233.0</td>\n",
              "      <td>86852.0</td>\n",
              "      <td>54868.571</td>\n",
              "      <td>52147.0</td>\n",
              "      <td>2004.0</td>\n",
              "      <td>1101.000</td>\n",
              "      <td>...</td>\n",
              "      <td>5.7</td>\n",
              "      <td>539.849</td>\n",
              "      <td>10.08</td>\n",
              "      <td>44.0</td>\n",
              "      <td>58.3</td>\n",
              "      <td>97.719</td>\n",
              "      <td>13.80</td>\n",
              "      <td>86.75</td>\n",
              "      <td>0.953</td>\n",
              "      <td>12</td>\n",
              "    </tr>\n",
              "    <tr>\n",
              "      <th>3</th>\n",
              "      <td>North America</td>\n",
              "      <td>VIR</td>\n",
              "      <td>United States Virgin Islands</td>\n",
              "      <td>2020-12-11</td>\n",
              "      <td>11205486.0</td>\n",
              "      <td>184813.0</td>\n",
              "      <td>156419.143</td>\n",
              "      <td>247220.0</td>\n",
              "      <td>4928.0</td>\n",
              "      <td>2715.143</td>\n",
              "      <td>...</td>\n",
              "      <td>23.5</td>\n",
              "      <td>430.548</td>\n",
              "      <td>17.11</td>\n",
              "      <td>19.1</td>\n",
              "      <td>53.3</td>\n",
              "      <td>90.650</td>\n",
              "      <td>5.80</td>\n",
              "      <td>83.92</td>\n",
              "      <td>0.926</td>\n",
              "      <td>12</td>\n",
              "    </tr>\n",
              "    <tr>\n",
              "      <th>4</th>\n",
              "      <td>Oceania</td>\n",
              "      <td>WLF</td>\n",
              "      <td>Wallis and Futuna</td>\n",
              "      <td>2020-12-11</td>\n",
              "      <td>27750.0</td>\n",
              "      <td>1384.0</td>\n",
              "      <td>551.714</td>\n",
              "      <td>907.0</td>\n",
              "      <td>59.0</td>\n",
              "      <td>22.000</td>\n",
              "      <td>...</td>\n",
              "      <td>25.1</td>\n",
              "      <td>561.494</td>\n",
              "      <td>30.53</td>\n",
              "      <td>23.5</td>\n",
              "      <td>48.8</td>\n",
              "      <td>82.502</td>\n",
              "      <td>3.84</td>\n",
              "      <td>83.44</td>\n",
              "      <td>0.939</td>\n",
              "      <td>12</td>\n",
              "    </tr>\n",
              "    <tr>\n",
              "      <th>5</th>\n",
              "      <td>South America</td>\n",
              "      <td>VEN</td>\n",
              "      <td>Venezuela</td>\n",
              "      <td>2020-12-11</td>\n",
              "      <td>5876464.0</td>\n",
              "      <td>69074.0</td>\n",
              "      <td>46393.000</td>\n",
              "      <td>166014.0</td>\n",
              "      <td>3935.0</td>\n",
              "      <td>1096.714</td>\n",
              "      <td>...</td>\n",
              "      <td>7.1</td>\n",
              "      <td>373.159</td>\n",
              "      <td>12.54</td>\n",
              "      <td>34.2</td>\n",
              "      <td>42.9</td>\n",
              "      <td>80.635</td>\n",
              "      <td>5.00</td>\n",
              "      <td>81.44</td>\n",
              "      <td>0.843</td>\n",
              "      <td>12</td>\n",
              "    </tr>\n",
              "  </tbody>\n",
              "</table>\n",
              "<p>6 rows × 50 columns</p>\n",
              "</div>\n",
              "      <button class=\"colab-df-convert\" onclick=\"convertToInteractive('df-140b1604-c806-4a7e-973f-8c9905d2fe13')\"\n",
              "              title=\"Convert this dataframe to an interactive table.\"\n",
              "              style=\"display:none;\">\n",
              "        \n",
              "  <svg xmlns=\"http://www.w3.org/2000/svg\" height=\"24px\"viewBox=\"0 0 24 24\"\n",
              "       width=\"24px\">\n",
              "    <path d=\"M0 0h24v24H0V0z\" fill=\"none\"/>\n",
              "    <path d=\"M18.56 5.44l.94 2.06.94-2.06 2.06-.94-2.06-.94-.94-2.06-.94 2.06-2.06.94zm-11 1L8.5 8.5l.94-2.06 2.06-.94-2.06-.94L8.5 2.5l-.94 2.06-2.06.94zm10 10l.94 2.06.94-2.06 2.06-.94-2.06-.94-.94-2.06-.94 2.06-2.06.94z\"/><path d=\"M17.41 7.96l-1.37-1.37c-.4-.4-.92-.59-1.43-.59-.52 0-1.04.2-1.43.59L10.3 9.45l-7.72 7.72c-.78.78-.78 2.05 0 2.83L4 21.41c.39.39.9.59 1.41.59.51 0 1.02-.2 1.41-.59l7.78-7.78 2.81-2.81c.8-.78.8-2.07 0-2.86zM5.41 20L4 18.59l7.72-7.72 1.47 1.35L5.41 20z\"/>\n",
              "  </svg>\n",
              "      </button>\n",
              "      \n",
              "  <style>\n",
              "    .colab-df-container {\n",
              "      display:flex;\n",
              "      flex-wrap:wrap;\n",
              "      gap: 12px;\n",
              "    }\n",
              "\n",
              "    .colab-df-convert {\n",
              "      background-color: #E8F0FE;\n",
              "      border: none;\n",
              "      border-radius: 50%;\n",
              "      cursor: pointer;\n",
              "      display: none;\n",
              "      fill: #1967D2;\n",
              "      height: 32px;\n",
              "      padding: 0 0 0 0;\n",
              "      width: 32px;\n",
              "    }\n",
              "\n",
              "    .colab-df-convert:hover {\n",
              "      background-color: #E2EBFA;\n",
              "      box-shadow: 0px 1px 2px rgba(60, 64, 67, 0.3), 0px 1px 3px 1px rgba(60, 64, 67, 0.15);\n",
              "      fill: #174EA6;\n",
              "    }\n",
              "\n",
              "    [theme=dark] .colab-df-convert {\n",
              "      background-color: #3B4455;\n",
              "      fill: #D2E3FC;\n",
              "    }\n",
              "\n",
              "    [theme=dark] .colab-df-convert:hover {\n",
              "      background-color: #434B5C;\n",
              "      box-shadow: 0px 1px 3px 1px rgba(0, 0, 0, 0.15);\n",
              "      filter: drop-shadow(0px 1px 2px rgba(0, 0, 0, 0.3));\n",
              "      fill: #FFFFFF;\n",
              "    }\n",
              "  </style>\n",
              "\n",
              "      <script>\n",
              "        const buttonEl =\n",
              "          document.querySelector('#df-140b1604-c806-4a7e-973f-8c9905d2fe13 button.colab-df-convert');\n",
              "        buttonEl.style.display =\n",
              "          google.colab.kernel.accessAllowed ? 'block' : 'none';\n",
              "\n",
              "        async function convertToInteractive(key) {\n",
              "          const element = document.querySelector('#df-140b1604-c806-4a7e-973f-8c9905d2fe13');\n",
              "          const dataTable =\n",
              "            await google.colab.kernel.invokeFunction('convertToInteractive',\n",
              "                                                     [key], {});\n",
              "          if (!dataTable) return;\n",
              "\n",
              "          const docLinkHtml = 'Like what you see? Visit the ' +\n",
              "            '<a target=\"_blank\" href=https://colab.research.google.com/notebooks/data_table.ipynb>data table notebook</a>'\n",
              "            + ' to learn more about interactive tables.';\n",
              "          element.innerHTML = '';\n",
              "          dataTable['output_type'] = 'display_data';\n",
              "          await google.colab.output.renderOutput(dataTable, element);\n",
              "          const docLink = document.createElement('div');\n",
              "          docLink.innerHTML = docLinkHtml;\n",
              "          element.appendChild(docLink);\n",
              "        }\n",
              "      </script>\n",
              "    </div>\n",
              "  </div>\n",
              "  "
            ]
          },
          "metadata": {},
          "execution_count": 214
        }
      ]
    },
    {
      "cell_type": "markdown",
      "source": [
        "8.Feature Engineering : \n",
        "\n",
        "a. Create a new feature 'total_deaths_to_total_cases' by ratio of 'total_deaths' column to 'total_cases'"
      ],
      "metadata": {
        "id": "8gu7-dVpmHoV"
      }
    },
    {
      "cell_type": "code",
      "source": [
        "print(\">>>8. new feature 'total_deaths_to_total_cases' by ratio of 'total_deaths' column to 'total_cases' \\n\", '-'*80, sep='')\n",
        "df_groupby['total_deaths_to_total_cases'] = df_groupby['total_deaths'] / df_groupby['total_cases']\n",
        "print(df_groupby[['continent', 'total_deaths_to_total_cases']])"
      ],
      "metadata": {
        "colab": {
          "base_uri": "https://localhost:8080/"
        },
        "id": "tXxW8IYAlhLt",
        "outputId": "2522516c-44ee-4dde-cbd2-046c93a033e9"
      },
      "execution_count": 236,
      "outputs": [
        {
          "output_type": "stream",
          "name": "stdout",
          "text": [
            ">>>8. new feature 'total_deaths_to_total_cases' by ratio of 'total_deaths' column to 'total_cases' \n",
            "--------------------------------------------------------------------------------\n",
            "       continent  total_deaths_to_total_cases\n",
            "0         Africa                     0.027004\n",
            "1           Asia                     0.014708\n",
            "2         Europe                     0.026188\n",
            "3  North America                     0.022062\n",
            "4        Oceania                     0.032685\n",
            "5  South America                     0.028251\n"
          ]
        }
      ]
    },
    {
      "cell_type": "markdown",
      "source": [
        "9.Data Visualization : \n",
        "\n",
        "a. Perform Univariate analysis on 'gdp_per_capita' column by plotting histogram using seaborn dist plot. \n",
        "\n",
        "b. Plot a scatter plot of 'total_cases' & 'gdp_per_capita' \n",
        "\n",
        "c. Plot Pairplot on df_groupby dataset. \n",
        "\n",
        "d. Plot a bar plot of 'continent' column with 'total_cases' . Tip : using kind='bar' in seaborn catplot"
      ],
      "metadata": {
        "id": "UlUNvhG2ptKJ"
      }
    },
    {
      "cell_type": "code",
      "source": [
        "print(\">>>9a. Univariate analysis on 'gdp_per_capita' column by plotting histogram using seaborn dist plot. \\n\", '-'*80, sep='')\n",
        "sns.displot(df_groupby['gdp_per_capita'], kde=False)"
      ],
      "metadata": {
        "colab": {
          "base_uri": "https://localhost:8080/",
          "height": 421
        },
        "id": "YHY1kEUfpw7K",
        "outputId": "46eed726-7a8b-4e02-e91e-66718a847bd8"
      },
      "execution_count": 237,
      "outputs": [
        {
          "output_type": "stream",
          "name": "stdout",
          "text": [
            ">>>9a. Univariate analysis on 'gdp_per_capita' column by plotting histogram using seaborn dist plot. \n",
            "--------------------------------------------------------------------------------\n"
          ]
        },
        {
          "output_type": "execute_result",
          "data": {
            "text/plain": [
              "<seaborn.axisgrid.FacetGrid at 0x7ff3c5f3ba30>"
            ]
          },
          "metadata": {},
          "execution_count": 237
        },
        {
          "output_type": "display_data",
          "data": {
            "text/plain": [
              "<Figure size 360x360 with 1 Axes>"
            ],
            "image/png": "[encoded data removed]"
          },
          "metadata": {
            "needs_background": "light"
          }
        }
      ]
    },
    {
      "cell_type": "code",
      "source": [
        "print(\">>>9b. Plot a scatter plot of 'total_cases' & 'gdp_per_capita' \\n\", '-'*80, sep='')\n",
        "sns.scatterplot(data=df_groupby, x='gdp_per_capita', y='total_cases')"
      ],
      "metadata": {
        "colab": {
          "base_uri": "https://localhost:8080/",
          "height": 343
        },
        "id": "BQ9zAR_NqTxK",
        "outputId": "66224f59-23eb-43f9-8e07-6f2994fb40d3"
      },
      "execution_count": 239,
      "outputs": [
        {
          "output_type": "stream",
          "name": "stdout",
          "text": [
            ">>>9b. Plot a scatter plot of 'total_cases' & 'gdp_per_capita' \n",
            "--------------------------------------------------------------------------------\n"
          ]
        },
        {
          "output_type": "execute_result",
          "data": {
            "text/plain": [
              "<AxesSubplot:xlabel='gdp_per_capita', ylabel='total_cases'>"
            ]
          },
          "metadata": {},
          "execution_count": 239
        },
        {
          "output_type": "display_data",
          "data": {
            "text/plain": [
              "<Figure size 432x288 with 1 Axes>"
            ],
            "image/png": "[encoded data removed]"
          },
          "metadata": {
            "needs_background": "light"
          }
        }
      ]
    },
    {
      "cell_type": "code",
      "source": [
        "print(\">>>9c. Plot Pairplot on df_groupby dataset \\n\", '-'*80, sep='')\n",
        "sns.pairplot(df_groupby)"
      ],
      "metadata": {
        "id": "1S8HN8iyuq0m"
      },
      "execution_count": null,
      "outputs": []
    },
    {
      "cell_type": "code",
      "source": [
        "print(\">>>9d. Plot a bar plot of 'continent' column with 'total_cases' \\n\", '-'*80, sep='')\n",
        "sns.catplot(data=df_groupby, x='continent', y='total_cases', kind='bar')"
      ],
      "metadata": {
        "colab": {
          "base_uri": "https://localhost:8080/",
          "height": 421
        },
        "id": "NY4Sn_NrrECF",
        "outputId": "aa172b62-908e-4555-e7b7-cd73e666a445"
      },
      "execution_count": 246,
      "outputs": [
        {
          "output_type": "stream",
          "name": "stdout",
          "text": [
            ">>>9d. Plot a bar plot of 'continent' column with 'total_cases' \n",
            "--------------------------------------------------------------------------------\n"
          ]
        },
        {
          "output_type": "execute_result",
          "data": {
            "text/plain": [
              "<seaborn.axisgrid.FacetGrid at 0x7ff386089b80>"
            ]
          },
          "metadata": {},
          "execution_count": 246
        },
        {
          "output_type": "display_data",
          "data": {
            "text/plain": [
              "<Figure size 360x360 with 1 Axes>"
            ],
            "image/png": "[encoded data removed]"
          },
          "metadata": {
            "needs_background": "light"
          }
        }
      ]
    },
    {
      "cell_type": "markdown",
      "source": [
        "10.Save the df_groupby dataframe in your local drive using pandas.to_csv function"
      ],
      "metadata": {
        "id": "zmK8eq3XrVnx"
      }
    },
    {
      "cell_type": "code",
      "source": [
        "print(\">>>10.Save the df_groupby\\n\", '-'*80, sep='')\n",
        "df_groupby.to_csv('df_groupby.csv', index=False)"
      ],
      "metadata": {
        "colab": {
          "base_uri": "https://localhost:8080/"
        },
        "id": "apS4wPkErZNM",
        "outputId": "bde063c6-ca37-4bb5-f27c-67c3231a84d0"
      },
      "execution_count": 243,
      "outputs": [
        {
          "output_type": "stream",
          "name": "stdout",
          "text": [
            ">>>10.Save the df_groupby\n",
            "--------------------------------------------------------------------------------\n"
          ]
        }
      ]
    }
  ]
}